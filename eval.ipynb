{
 "cells": [
  {
   "cell_type": "markdown",
   "metadata": {},
   "source": [
    "# かな入力方式を評価する"
   ]
  },
  {
   "cell_type": "code",
   "execution_count": 4,
   "metadata": {},
   "outputs": [],
   "source": [
    "import kana_arranger as ka"
   ]
  },
  {
   "cell_type": "markdown",
   "metadata": {},
   "source": [
    "## コーパスを用意する"
   ]
  },
  {
   "cell_type": "markdown",
   "metadata": {},
   "source": [
    "`cutoff` は出現数の最小値。デバッグ時は大きい値（1000とか）、評価時は小さい値（1～2）にする。"
   ]
  },
  {
   "cell_type": "code",
   "execution_count": null,
   "metadata": {},
   "outputs": [],
   "source": [
    "corpus_dir = './corpus'\n",
    "cutoff = 1 # 頻度がこの値未満の語彙を無視する\n",
    "corpus = ka.KkcBccwjCore(corpus_dir, cutoff)"
   ]
  },
  {
   "cell_type": "markdown",
   "metadata": {},
   "source": [
    "内容確認"
   ]
  },
  {
   "cell_type": "code",
   "execution_count": null,
   "metadata": {},
   "outputs": [],
   "source": [
    "corpus.freq.most_common(10)"
   ]
  },
  {
   "cell_type": "markdown",
   "metadata": {},
   "source": [
    " ` [('た。', 6959), ('る。', 4924), ...]`\n",
    " のように文字列と数値のペアのリストが表示されればOK"
   ]
  },
  {
   "cell_type": "markdown",
   "metadata": {},
   "source": [
    "## かな入力方式を定義する"
   ]
  },
  {
   "cell_type": "markdown",
   "metadata": {},
   "source": [
    "### 既存のかな入力方式を使う"
   ]
  },
  {
   "cell_type": "markdown",
   "metadata": {},
   "source": [
    "`Romaji` が使える。"
   ]
  },
  {
   "cell_type": "code",
   "execution_count": null,
   "metadata": {},
   "outputs": [],
   "source": [
    "romaji = ka.Romaji()"
   ]
  },
  {
   "cell_type": "markdown",
   "metadata": {},
   "source": [
    "動作確認"
   ]
  },
  {
   "cell_type": "code",
   "execution_count": null,
   "metadata": {},
   "outputs": [],
   "source": [
    "romaji.apply('ふぃんあんかんにんにゃんんゔゅー☆、「くぇっあっかっにっにゃっんっゔぉー」。')"
   ]
  },
  {
   "cell_type": "markdown",
   "metadata": {},
   "source": [
    "`'finnankannninnnyannnvyu-☆,「qextuakkaxtunixtunyaxtunvvo-」.'`\n",
    "と表示されればOK"
   ]
  },
  {
   "cell_type": "markdown",
   "metadata": {},
   "source": [
    "### 独自のかな入力方式を作る"
   ]
  },
  {
   "cell_type": "markdown",
   "metadata": {},
   "source": [
    "例: 「あいうえお」だけのローマ字入力を作る。"
   ]
  },
  {
   "cell_type": "code",
   "execution_count": null,
   "metadata": {},
   "outputs": [],
   "source": [
    "table = {\n",
    "    'あ':'a', 'い':'i', 'う':'u', 'え':'e', 'お':'o',\n",
    "}\n",
    "aiueo = ka.Transliterator('aiueo', table)"
   ]
  },
  {
   "cell_type": "markdown",
   "metadata": {},
   "source": [
    "動作確認"
   ]
  },
  {
   "cell_type": "code",
   "execution_count": null,
   "metadata": {},
   "outputs": [],
   "source": [
    "aiueo.apply('ふぃんあんかんにんにゃんんゔゅー☆、「くぇっあっかっにっにゃっんっゔぉー」。')"
   ]
  },
  {
   "cell_type": "markdown",
   "metadata": {},
   "source": [
    "## キーボードを定義する"
   ]
  },
  {
   "cell_type": "markdown",
   "metadata": {},
   "source": [
    "### 既存のキーボードを使う"
   ]
  },
  {
   "cell_type": "markdown",
   "metadata": {},
   "source": [
    "`JisKeyboard`, `MicrotronKeyboard` が使える。"
   ]
  },
  {
   "cell_type": "code",
   "execution_count": null,
   "metadata": {},
   "outputs": [],
   "source": [
    "keyboard = ka.JisKeyboard()"
   ]
  },
  {
   "cell_type": "markdown",
   "metadata": {},
   "source": [
    "### 独自のキーボードを作る"
   ]
  },
  {
   "cell_type": "markdown",
   "metadata": {},
   "source": [
    "例: JISキーボードを作る。"
   ]
  },
  {
   "cell_type": "code",
   "execution_count": null,
   "metadata": {},
   "outputs": [],
   "source": [
    "\"\"\"\n",
    "┏━━━━━━━━━━━━━━━━━━━━━━━━━━┓\n",
    "┃1 │2 │3 │4 │5 ┃6 │7 │8 │9 │0 │- │^ │| │┃\n",
    "┃│q │w │e │r │t ┃y │u │i │o │p │@ │[ │  ┃\n",
    "┃ │a │s │d │f │g ┃h │j │k │l │; │: │] │ ┃\n",
    "┃S  │z │x │c │v │b ┃n │m │, │. │/ │_ │S  ┃\n",
    "┗━━━━━━━━━━━━━━━━━━━━━━━━━━┛\n",
    "\"\"\"\n",
    "jisx6002 = ka.Keyboard(\n",
    "    # レイアウト名（Heatmapのレイアウト名に合わせる）\n",
    "    'QWERTY',\n",
    "    # キー\n",
    "    '1234567890-^|qwertyuiop@[asdfghjkl;:]zxcvbnm,./_',\n",
    "    # 担当手（<=左手, >=右手）\n",
    "    '<<<<<>>>>>>>><<<<<>>>>>>><<<<<>>>>>>><<<<<>>>>>>',\n",
    "    # 担当指（a=左小指, ..., d=左人差指, e=左親指, f=右親指, g=右人差指, ..., j=右小指）\n",
    "    'abcddgghijjjjabcddgghijjjabcddgghijjjabcddgghijj',\n",
    "    # 段（0=親指, 1=下段, 2=中段, 3=上段, 4=最上段）\n",
    "    '444444444444433333333333322222222222211111111111',\n",
    "    # 列（..., Q=左手最右列, R=右手最左列, ...）\n",
    "    'MNOPQRSTUVWXYMNOPQRSTUVWXMNOPQRSTUVWXMNOPQRSTUVW',\n",
    "    # アルペジオに含める列\n",
    "    'MNOPSTUV'\n",
    ")"
   ]
  },
  {
   "cell_type": "markdown",
   "metadata": {},
   "source": [
    "ヒートマップを描画するには、次の作業を別途行う必要がある。\n",
    "\n",
    "- `kana_arranger/img/<レイアウト名>.png` に800×373ピクセルの画像を作る。\n",
    "- `kana_arranger/lib/keyboard-layouts.js` に画像上の各キーの中心座標を書く。"
   ]
  },
  {
   "cell_type": "markdown",
   "metadata": {},
   "source": [
    "## 定量評価する"
   ]
  },
  {
   "cell_type": "code",
   "execution_count": null,
   "metadata": {},
   "outputs": [],
   "source": [
    "r = keyboard.evaluate(corpus, romaji)\n",
    "print(r)"
   ]
  },
  {
   "cell_type": "markdown",
   "metadata": {},
   "source": [
    "ヒートマップ"
   ]
  },
  {
   "cell_type": "code",
   "execution_count": null,
   "metadata": {},
   "outputs": [],
   "source": [
    "r.heatmap()"
   ]
  },
  {
   "cell_type": "markdown",
   "metadata": {},
   "source": [
    "キーごとの打鍵数"
   ]
  },
  {
   "cell_type": "code",
   "execution_count": null,
   "metadata": {
    "scrolled": true
   },
   "outputs": [],
   "source": [
    "print(r.c_key)"
   ]
  },
  {
   "cell_type": "markdown",
   "metadata": {},
   "source": [
    "その他の統計値"
   ]
  },
  {
   "cell_type": "code",
   "execution_count": null,
   "metadata": {},
   "outputs": [],
   "source": [
    "# TODO: Pandasで集計する"
   ]
  }
 ],
 "metadata": {
  "kernelspec": {
   "display_name": "Python 3",
   "language": "python",
   "name": "python3"
  },
  "language_info": {
   "codemirror_mode": {
    "name": "ipython",
    "version": 3
   },
   "file_extension": ".py",
   "mimetype": "text/x-python",
   "name": "python",
   "nbconvert_exporter": "python",
   "pygments_lexer": "ipython3",
   "version": "3.7.3"
  }
 },
 "nbformat": 4,
 "nbformat_minor": 2
}
